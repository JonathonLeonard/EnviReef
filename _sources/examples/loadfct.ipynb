{
 "cells": [
  {
   "cell_type": "markdown",
   "id": "forty-green",
   "metadata": {},
   "source": [
    "# eReefs plotting functions\n",
    "\n",
    "We will reuse what we did in the previous notebooks but this time by putting the `eReefs_map` and `eReefs_cross` functions in a Python file and calling it from the notebook.\n",
    "\n",
    ":::{seealso}\n",
    "Some examples of plotted maps from eReefs dataset can be found on the\n",
    "[AIMS website](https://ereefs.aims.gov.au/ereefs-aims#ereefs-bgc-model).\n",
    ":::\n",
    "\n",
    "You will see a file in the `Jupyterlab` environment under the examples folder called `functions.py` which contains our function. "
   ]
  },
  {
   "cell_type": "code",
   "execution_count": 1,
   "id": "intended-network",
   "metadata": {},
   "outputs": [],
   "source": [
    "import os\n",
    "import shutil\n",
    "from PIL import Image  # To create gifs\n",
    "\n",
    "from Mapfct import *     # Here is where we call the function.\n",
    "from Crossfct import *   # Here is where we call the function.\n",
    "\n",
    "%config InlineBackend.figure_format = 'retina'\n",
    "plt.ion()  # To trigger the interactive inline mode"
   ]
  },
  {
   "cell_type": "markdown",
   "id": "increasing-symphony",
   "metadata": {},
   "source": [
    "## Map plotting"
   ]
  },
  {
   "cell_type": "markdown",
   "id": "included-genealogy",
   "metadata": {},
   "source": [
    "Let's first have a look to see if we have access to our function... we use the `help()` function which provides the informations about our function."
   ]
  },
  {
   "cell_type": "code",
   "execution_count": null,
   "id": "noted-glucose",
   "metadata": {},
   "outputs": [],
   "source": [
    "#help(eReefs_map)"
   ]
  },
  {
   "cell_type": "markdown",
   "id": "downtown-daughter",
   "metadata": {},
   "source": [
    "Similar to what we have done before, we first open the desired netcdf file from the OPenDAP server:"
   ]
  },
  {
   "cell_type": "code",
   "execution_count": null,
   "id": "optimum-fluid",
   "metadata": {},
   "outputs": [],
   "source": [
    "month = 3\n",
    "year = 2020\n",
    "netCDF_datestr = str(year)+'-'+format(month, '02')\n",
    "print('File chosen time interval:',netCDF_datestr)\n",
    "# GBR4\n",
    "inputFile = \"http://thredds.ereefs.aims.gov.au/thredds/dodsC/s3://aims-ereefs-public-prod/derived/ncaggregate/ereefs/gbr4_v2/daily-monthly/EREEFS_AIMS-CSIRO_gbr4_v2_hydro_daily-monthly-\"+netCDF_datestr+\".nc\"\n",
    "nc_data = Dataset(inputFile, 'r')"
   ]
  },
  {
   "cell_type": "markdown",
   "id": "changing-worthy",
   "metadata": {},
   "source": [
    "We then defined the variables that needs to be set for the `eReefs_map` function:"
   ]
  },
  {
   "cell_type": "code",
   "execution_count": null,
   "id": "complicated-chess",
   "metadata": {
    "tags": [
     "hide-output"
    ]
   },
   "outputs": [],
   "source": [
    "selectedVariable = 'mean_cur' \n",
    "selectedTimeIndex = 29        \n",
    "selectedDepthIndex = -1       \n",
    "\n",
    "# Vector field mapping information\n",
    "veclenght = 0.5\n",
    "vecsample = 30\n",
    "vecscale = 18\n",
    "\n",
    "# Figure size\n",
    "size = (6, 8)\n",
    "\n",
    "# Used color\n",
    "color = cmocean.cm.speed\n",
    "\n",
    "# Variable range for the colorscale\n",
    "curlvl = [0.001,1.75]\n",
    "\n",
    "# Saved file name\n",
    "fname = 'GBRcurrent'\n",
    "\n",
    "# Region to plot\n",
    "zoom = [144,-15,148,-12]\n",
    "\n",
    "# We now call the function\n",
    "eReefs_map(nc_data, selectedTimeIndex, selectedDepthIndex, \n",
    "           selectedVariable, curlvl, color, size, fname, \n",
    "           vecsample, veclenght, vecscale, zoom, \n",
    "           show=True, vecPlot=True, save=False)"
   ]
  },
  {
   "cell_type": "markdown",
   "id": "technical-sandwich",
   "metadata": {},
   "source": [
    "Now we will loop over time for our monthly record and save the successive daily images in a folder."
   ]
  },
  {
   "cell_type": "code",
   "execution_count": null,
   "id": "blocked-exclusion",
   "metadata": {},
   "outputs": [],
   "source": [
    "# Name of the folder where images will be saved\n",
    "dir = 'fig-currents'      \n",
    "\n",
    "# We check if the folder exists, in this case if it does we remove it and \n",
    "# create a new one\n",
    "if os.path.exists(dir):\n",
    "    shutil.rmtree(dir)\n",
    "os.makedirs(dir)\n",
    "\n",
    "# We will then put each daily figure in this new folder\n",
    "fname = dir+'/curr'"
   ]
  },
  {
   "cell_type": "markdown",
   "id": "subjective-pressure",
   "metadata": {},
   "source": [
    "We will use a `for` loop and for each iteration we will call the `eReefs_map` function with a new time step. To speed up the process we will not plot each individual image in our notebook (set `show=False`) and will save the figures by setting `save=True`:"
   ]
  },
  {
   "cell_type": "code",
   "execution_count": null,
   "id": "executive-kentucky",
   "metadata": {},
   "outputs": [],
   "source": [
    "imgs = []\n",
    "# For running over the entire time period remove the next line \n",
    "# and uncomment the following one \n",
    "for k in range(0,1): \n",
    "# for k in range(nc_data['time'].shape[0]):\n",
    "    \n",
    "    selectedTimeIndex = k\n",
    "    \n",
    "    # We now call the function. To save time we will not plot the data \n",
    "    # but save the file\n",
    "    eReefs_map(nc_data, selectedTimeIndex, selectedDepthIndex, \n",
    "               selectedVariable, curlvl, color, size, fname, \n",
    "               vecsample, veclenght, vecscale, zoom, \n",
    "               show=False, vecPlot=True, save=True)\n",
    "    \n",
    "    imgs.append(f\"{fname}_time{selectedTimeIndex:04}_zc{selectedDepthIndex:04}.png\")"
   ]
  },
  {
   "cell_type": "markdown",
   "id": "lesbian-danger",
   "metadata": {},
   "source": [
    "We can use the [pillow](https://pillow.readthedocs.io/en/stable/) imaging library to create an animated gif from our png figures."
   ]
  },
  {
   "cell_type": "code",
   "execution_count": null,
   "id": "working-incidence",
   "metadata": {},
   "outputs": [],
   "source": [
    "# Create the frames\n",
    "frames = []\n",
    "for i in imgs:\n",
    "    new_frame = Image.open(i)\n",
    "    frames.append(new_frame)\n",
    "\n",
    "# Save into a GIF file that loops forever\n",
    "frames[0].save(dir+'/mycurrents.gif', format='GIF',\n",
    "               append_images=frames[1:],\n",
    "               save_all=True,\n",
    "               duration=500, loop=0)"
   ]
  },
  {
   "cell_type": "markdown",
   "id": "modular-exception",
   "metadata": {},
   "source": [
    "We have just made a cleaner version of the previous notebook where the core function is defined in a Python function that we called and imported like other libraries. \n",
    "\n",
    ":::{note}\n",
    "The function is flexible enough that it can be used to visualise either the entire GBR or part of it as well as the different variables available in the netCDF files.\n",
    ":::"
   ]
  },
  {
   "cell_type": "markdown",
   "id": "several-mercy",
   "metadata": {},
   "source": [
    "\n",
    ":::{figure-md} fig-target_ex1\n",
    ":class: myclass\n",
    "\n",
    "<img src=\"./currents.gif\" alt=\"currents\" width=\"600px\">\n",
    "\n",
    "Animated gif showing the mean current evolution for a specific region .\n",
    ":::\n",
    "\n"
   ]
  },
  {
   "cell_type": "markdown",
   "id": "blank-station",
   "metadata": {},
   "source": [
    "## Cross-section plotting"
   ]
  },
  {
   "cell_type": "code",
   "execution_count": null,
   "id": "nominated-mystery",
   "metadata": {},
   "outputs": [],
   "source": [
    "#help(eReefs_cross)"
   ]
  },
  {
   "cell_type": "markdown",
   "id": "artistic-friendship",
   "metadata": {},
   "source": [
    "We start by calling the desired eReefs dataset:"
   ]
  },
  {
   "cell_type": "code",
   "execution_count": 2,
   "id": "recognized-expert",
   "metadata": {},
   "outputs": [
    {
     "name": "stdout",
     "output_type": "stream",
     "text": [
      "File chosen time interval: 2019-04\n"
     ]
    }
   ],
   "source": [
    "month = 4\n",
    "year = 2019\n",
    "netCDF_datestr = str(year)+'-'+format(month, '02')\n",
    "print('File chosen time interval:',netCDF_datestr)\n",
    "# GBR4\n",
    "inputFile = \"http://thredds.ereefs.aims.gov.au/thredds/dodsC/s3://aims-ereefs-public-prod/derived/ncaggregate/ereefs/GBR4_H2p0_B3p1_Cq3b_Dhnd/daily-monthly/EREEFS_AIMS-CSIRO_GBR4_H2p0_B3p1_Cq3b_Dhnd_bgc_daily-monthly-\"+netCDF_datestr+\".nc\"\n",
    "nc_bio = Dataset(inputFile, 'r')"
   ]
  },
  {
   "cell_type": "markdown",
   "id": "novel-primary",
   "metadata": {},
   "source": [
    "We then defined the variables that needs to be set for the `eReefs_cross` function:"
   ]
  },
  {
   "cell_type": "code",
   "execution_count": 4,
   "id": "southern-round",
   "metadata": {
    "tags": [
     "hide-output"
    ]
   },
   "outputs": [
    {
     "data": {
      "image/png": "[encoded data removed]",
      "text/plain": [
       "<Figure size 648x216 with 2 Axes>"
      ]
     },
     "metadata": {
      "image/png": {
       "height": 207,
       "width": 639
      }
     },
     "output_type": "display_data"
    },
    {
     "data": {
      "text/plain": [
       "<Figure size 432x288 with 0 Axes>"
      ]
     },
     "metadata": {},
     "output_type": "display_data"
    }
   ],
   "source": [
    "selectedTimeIndex = 0  \n",
    "selectedVariable = 'alk' \n",
    "color = cmocean.cm.matter\n",
    "\n",
    "latVal = -11. \n",
    "xLon = [142.5,150.25]\n",
    "dext = [2190.,2270.]\n",
    "\n",
    "fLat = 'lat11'\n",
    "sizeLat = (9,3)\n",
    "\n",
    "eReefs_cross(nc_bio, selectedTimeIndex, selectedVariable, color, \n",
    "             latVal, None, sizeLat, fLat, xLon, dext, show=True, \n",
    "             save=False)"
   ]
  },
  {
   "cell_type": "markdown",
   "id": "beautiful-career",
   "metadata": {},
   "source": [
    "Now we will loop over time for our monthly record and save the successive daily images in a folder."
   ]
  },
  {
   "cell_type": "code",
   "execution_count": 16,
   "id": "dynamic-richards",
   "metadata": {},
   "outputs": [],
   "source": [
    "# Name of the folder where images will be saved\n",
    "dir = 'fig-alk'      \n",
    "\n",
    "# We check if the folder exists, in this case if it does we remove it and \n",
    "# create a new one\n",
    "if os.path.exists(dir):\n",
    "    shutil.rmtree(dir)\n",
    "os.makedirs(dir)\n",
    "\n",
    "# We will then put each daily figure in this new folder\n",
    "fname = dir+'/lat11'"
   ]
  },
  {
   "cell_type": "markdown",
   "id": "african-proposal",
   "metadata": {},
   "source": [
    "Here, we will use again a `for` loop and for each iteration we will call the `eReefs_cross` function with a new time step. To speed up the process we will not plot each individual image in our notebook (set `show=False`) and will save the figures by setting `save=True`:"
   ]
  },
  {
   "cell_type": "code",
   "execution_count": 17,
   "id": "minus-fraction",
   "metadata": {},
   "outputs": [
    {
     "data": {
      "text/plain": [
       "<Figure size 432x288 with 0 Axes>"
      ]
     },
     "metadata": {},
     "output_type": "display_data"
    }
   ],
   "source": [
    "imgs = []\n",
    "# For running over the entire time period remove the next line \n",
    "# and uncomment the following one \n",
    "for k in range(0,1): \n",
    "#for k in range(nc_bio['time'].shape[0]):\n",
    "    \n",
    "    selectedTimeIndex = k\n",
    "    \n",
    "    # We now call the function. To save time we will not plot the data \n",
    "    # but save the file\n",
    "    eReefs_cross(nc_bio, selectedTimeIndex, selectedVariable, color, \n",
    "             latVal, None, sizeLat, fname, xLon, dext, show=False, \n",
    "             save=True)\n",
    "    \n",
    "    imgs.append(f\"{fname}_cross_time{selectedTimeIndex:04}.png\")"
   ]
  },
  {
   "cell_type": "markdown",
   "id": "processed-engagement",
   "metadata": {},
   "source": [
    "Using the [pillow](https://pillow.readthedocs.io/en/stable/) imaging library we create an animated gif from our png figures."
   ]
  },
  {
   "cell_type": "code",
   "execution_count": 18,
   "id": "amber-irrigation",
   "metadata": {
    "tags": [
     "hide-output"
    ]
   },
   "outputs": [],
   "source": [
    "# Create the frames\n",
    "frames = []\n",
    "for i in imgs:\n",
    "    new_frame = Image.open(i)\n",
    "    frames.append(new_frame)\n",
    "\n",
    "# Save into a GIF file that loops forever\n",
    "frames[0].save(dir+'/myalk.gif', format='GIF',\n",
    "               append_images=frames[1:],\n",
    "               save_all=True,\n",
    "               duration=500, loop=0)"
   ]
  },
  {
   "cell_type": "markdown",
   "id": "executive-liver",
   "metadata": {},
   "source": [
    "Here is the result:"
   ]
  },
  {
   "cell_type": "markdown",
   "id": "vocational-pakistan",
   "metadata": {},
   "source": [
    "\n",
    ":::{figure-md} fig-target_ex1\n",
    ":class: myclass\n",
    "\n",
    "<img src=\"./myalk.gif\" alt=\"currents\" width=\"600px\">\n",
    "\n",
    "Animated gif showing the total alkalinity evolution for a cross-section at 11S.\n",
    ":::"
   ]
  },
  {
   "cell_type": "code",
   "execution_count": null,
   "id": "medical-twins",
   "metadata": {},
   "outputs": [],
   "source": []
  }
 ],
 "metadata": {
  "kernelspec": {
   "display_name": "Python 3",
   "language": "python",
   "name": "python3"
  },
  "language_info": {
   "codemirror_mode": {
    "name": "ipython",
    "version": 3
   },
   "file_extension": ".py",
   "mimetype": "text/x-python",
   "name": "python",
   "nbconvert_exporter": "python",
   "pygments_lexer": "ipython3",
   "version": "3.8.8"
  }
 },
 "nbformat": 4,
 "nbformat_minor": 5
}
