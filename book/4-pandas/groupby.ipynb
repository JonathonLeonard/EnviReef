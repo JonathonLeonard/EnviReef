{
 "cells": [
  {
   "cell_type": "markdown",
   "metadata": {},
   "source": [
    "# Pandas: Groupby\n",
    "\n",
    "`groupby` is an amazingly powerful function in pandas. But it is also complicated to use and understand.\n",
    "The point of this notebook is to make you feel confident in using `groupby` and its cousins, `resample` and `rolling`. \n",
    "\n",
    "These notes are loosely based on the [Pandas GroupBy Documentation](http://pandas.pydata.org/pandas-docs/stable/groupby.html).\n",
    "\n",
    "\n",
    ":::{seealso}\n",
    "The \"split/apply/combine\" concept was first introduced in a paper by Hadley Wickham: <https://www.jstatsoft.org/article/view/v040i01>.\n",
    ":::"
   ]
  },
  {
   "cell_type": "code",
   "execution_count": 1,
   "metadata": {},
   "outputs": [],
   "source": [
    "import numpy as np\n",
    "import pandas as pd\n",
    "\n",
    "from matplotlib import pyplot as plt\n",
    "# %config InlineBackend.figure_format = 'retina'\n",
    "plt.rcParams['figure.figsize'] = (12,7)\n",
    "plt.ion()  # To trigger the interactive inline mode"
   ]
  },
  {
   "cell_type": "markdown",
   "metadata": {},
   "source": [
    "Use the following code to load a CSV file of the [NOAA IBTrACS cyclones](https://www.ncdc.noaa.gov/ibtracs/index.php?name=ibtracs-data) dataset:"
   ]
  },
  {
   "cell_type": "code",
   "execution_count": 65,
   "metadata": {},
   "outputs": [
    {
     "data": {
      "text/html": [
       "<div>\n",
       "<style scoped>\n",
       "    .dataframe tbody tr th:only-of-type {\n",
       "        vertical-align: middle;\n",
       "    }\n",
       "\n",
       "    .dataframe tbody tr th {\n",
       "        vertical-align: top;\n",
       "    }\n",
       "\n",
       "    .dataframe thead th {\n",
       "        text-align: right;\n",
       "    }\n",
       "</style>\n",
       "<table border=\"1\" class=\"dataframe\">\n",
       "  <thead>\n",
       "    <tr style=\"text-align: right;\">\n",
       "      <th></th>\n",
       "      <th>SEASON</th>\n",
       "      <th>NUMBER</th>\n",
       "      <th>BASIN</th>\n",
       "      <th>SUBBASIN</th>\n",
       "      <th>NAME</th>\n",
       "      <th>ISO_TIME</th>\n",
       "      <th>NATURE</th>\n",
       "      <th>LAT</th>\n",
       "      <th>LON</th>\n",
       "      <th>WMO_WIND</th>\n",
       "      <th>WMO_PRES</th>\n",
       "    </tr>\n",
       "    <tr>\n",
       "      <th>SID</th>\n",
       "      <th></th>\n",
       "      <th></th>\n",
       "      <th></th>\n",
       "      <th></th>\n",
       "      <th></th>\n",
       "      <th></th>\n",
       "      <th></th>\n",
       "      <th></th>\n",
       "      <th></th>\n",
       "      <th></th>\n",
       "      <th></th>\n",
       "    </tr>\n",
       "  </thead>\n",
       "  <tbody>\n",
       "    <tr>\n",
       "      <th>2018004S08095</th>\n",
       "      <td>2018</td>\n",
       "      <td>1</td>\n",
       "      <td>SI</td>\n",
       "      <td>WA</td>\n",
       "      <td>IRVING</td>\n",
       "      <td>2018-01-03 18:00:00</td>\n",
       "      <td>NR</td>\n",
       "      <td>-8.27000</td>\n",
       "      <td>95.3300</td>\n",
       "      <td>25.0</td>\n",
       "      <td>1004.0</td>\n",
       "    </tr>\n",
       "    <tr>\n",
       "      <th>2018004S08095</th>\n",
       "      <td>2018</td>\n",
       "      <td>1</td>\n",
       "      <td>SI</td>\n",
       "      <td>WA</td>\n",
       "      <td>IRVING</td>\n",
       "      <td>2018-01-03 21:00:00</td>\n",
       "      <td>NR</td>\n",
       "      <td>-8.36815</td>\n",
       "      <td>95.7494</td>\n",
       "      <td>NaN</td>\n",
       "      <td>NaN</td>\n",
       "    </tr>\n",
       "    <tr>\n",
       "      <th>2018004S08095</th>\n",
       "      <td>2018</td>\n",
       "      <td>1</td>\n",
       "      <td>SI</td>\n",
       "      <td>WA</td>\n",
       "      <td>IRVING</td>\n",
       "      <td>2018-01-04 00:00:00</td>\n",
       "      <td>NR</td>\n",
       "      <td>-8.60000</td>\n",
       "      <td>96.0000</td>\n",
       "      <td>25.0</td>\n",
       "      <td>1004.0</td>\n",
       "    </tr>\n",
       "    <tr>\n",
       "      <th>2018004S08095</th>\n",
       "      <td>2018</td>\n",
       "      <td>1</td>\n",
       "      <td>SI</td>\n",
       "      <td>WA</td>\n",
       "      <td>IRVING</td>\n",
       "      <td>2018-01-04 03:00:00</td>\n",
       "      <td>NR</td>\n",
       "      <td>-9.03721</td>\n",
       "      <td>95.9729</td>\n",
       "      <td>NaN</td>\n",
       "      <td>NaN</td>\n",
       "    </tr>\n",
       "    <tr>\n",
       "      <th>2018004S08095</th>\n",
       "      <td>2018</td>\n",
       "      <td>1</td>\n",
       "      <td>SI</td>\n",
       "      <td>WA</td>\n",
       "      <td>IRVING</td>\n",
       "      <td>2018-01-04 06:00:00</td>\n",
       "      <td>NR</td>\n",
       "      <td>-9.50000</td>\n",
       "      <td>95.8000</td>\n",
       "      <td>25.0</td>\n",
       "      <td>1004.0</td>\n",
       "    </tr>\n",
       "  </tbody>\n",
       "</table>\n",
       "</div>"
      ],
      "text/plain": [
       "               SEASON  NUMBER BASIN SUBBASIN    NAME            ISO_TIME  \\\n",
       "SID                                                                        \n",
       "2018004S08095    2018       1    SI       WA  IRVING 2018-01-03 18:00:00   \n",
       "2018004S08095    2018       1    SI       WA  IRVING 2018-01-03 21:00:00   \n",
       "2018004S08095    2018       1    SI       WA  IRVING 2018-01-04 00:00:00   \n",
       "2018004S08095    2018       1    SI       WA  IRVING 2018-01-04 03:00:00   \n",
       "2018004S08095    2018       1    SI       WA  IRVING 2018-01-04 06:00:00   \n",
       "\n",
       "              NATURE      LAT      LON  WMO_WIND  WMO_PRES  \n",
       "SID                                                         \n",
       "2018004S08095     NR -8.27000  95.3300      25.0    1004.0  \n",
       "2018004S08095     NR -8.36815  95.7494       NaN       NaN  \n",
       "2018004S08095     NR -8.60000  96.0000      25.0    1004.0  \n",
       "2018004S08095     NR -9.03721  95.9729       NaN       NaN  \n",
       "2018004S08095     NR -9.50000  95.8000      25.0    1004.0  "
      ]
     },
     "execution_count": 65,
     "metadata": {},
     "output_type": "execute_result"
    }
   ],
   "source": [
    "#url = 'https://www.ncei.noaa.gov/data/international-best-track-archive-for-climate-stewardship-ibtracs/v04r00/access/csv/ibtracs.ALL.list.v04r00.csv'\n",
    "url = 'ibtracs.last3years.list.v04r00.csv'\n",
    "df = pd.read_csv(url, parse_dates=['ISO_TIME'], usecols=range(12), index_col='SID',\n",
    "                 skiprows=[1], na_values=[' ', 'NOT_NAMED'],\n",
    "                 keep_default_na=False, dtype={'NAME': str})\n",
    "df.head()"
   ]
  },
  {
   "cell_type": "markdown",
   "metadata": {},
   "source": [
    "**Basin Key:** \n",
    "+ NA - North Atlantic\n",
    "+ EP - Eastern North Pacific \n",
    "+ WP - Western North Pacific \n",
    "+ NI - North Indian\n",
    "+ SI - South Indian\n",
    "+ SP - Southern Pacific\n",
    "+ SA - South Atlantic"
   ]
  },
  {
   "cell_type": "markdown",
   "metadata": {},
   "source": [
    "## An Example\n",
    "\n",
    "This is an example of a \"one-liner\" that you can accomplish with groupby."
   ]
  },
  {
   "cell_type": "code",
   "execution_count": 66,
   "metadata": {},
   "outputs": [
    {
     "data": {
      "text/plain": [
       "<AxesSubplot:xlabel='BASIN'>"
      ]
     },
     "execution_count": 66,
     "metadata": {},
     "output_type": "execute_result"
    },
    {
     "data": {
      "image/png": "[encoded data removed]",
      "text/plain": [
       "<Figure size 864x432 with 1 Axes>"
      ]
     },
     "metadata": {
      "needs_background": "light"
     },
     "output_type": "display_data"
    }
   ],
   "source": [
    "df.groupby('BASIN').WMO_WIND.count().nlargest(20).plot(kind='bar', figsize=(12,6))"
   ]
  },
  {
   "cell_type": "markdown",
   "metadata": {},
   "source": [
    "## What Happened?\n",
    "\n",
    "Let's break apart this operation a bit. The workflow with `groubpy` can be divided into three general steps:\n",
    "\n",
    "1. **Split**: Partition the data into different groups based on some criterion.\n",
    "1. **Apply**: Do some caclulation within each group. Different types of \"apply\" steps might be\n",
    "  1. *Aggregation*: Get the mean or max within the group.\n",
    "  1. *Transformation*: Normalize all the values within a group\n",
    "  1. *Filtration*: Eliminate some groups based on a criterion.\n",
    "1. **Combine**: Put the results back together into a single object.\n",
    "\n",
    "![split-apply-combine](https://miro.medium.com/max/1840/1*JbF6nhrQsn4f-TaSF6IR9g.png)\n",
    "\n",
    "### The `groupby` method\n",
    "\n",
    "Both `Series` and `DataFrame` objects have a groupby method. It accepts a variety of arguments, but the simplest way to think about it is that you pass another series, whose unique values are used to split the original object into different groups."
   ]
  },
  {
   "cell_type": "code",
   "execution_count": 67,
   "metadata": {},
   "outputs": [
    {
     "data": {
      "text/plain": [
       "<pandas.core.groupby.generic.DataFrameGroupBy object at 0x7f7f1a107f10>"
      ]
     },
     "execution_count": 67,
     "metadata": {},
     "output_type": "execute_result"
    }
   ],
   "source": [
    "df.groupby(df.BASIN)"
   ]
  },
  {
   "cell_type": "markdown",
   "metadata": {},
   "source": [
    "There is a shortcut for doing this with dataframes: you just pass the column name:"
   ]
  },
  {
   "cell_type": "code",
   "execution_count": 68,
   "metadata": {},
   "outputs": [
    {
     "data": {
      "text/plain": [
       "<pandas.core.groupby.generic.DataFrameGroupBy object at 0x7f7ed0312a60>"
      ]
     },
     "execution_count": 68,
     "metadata": {},
     "output_type": "execute_result"
    }
   ],
   "source": [
    "df.groupby('BASIN')"
   ]
  },
  {
   "cell_type": "markdown",
   "metadata": {},
   "source": [
    "### The `GroubBy` object\n",
    "\n",
    "When we call, `groupby` we get back a `GroupBy` object:"
   ]
  },
  {
   "cell_type": "code",
   "execution_count": 69,
   "metadata": {},
   "outputs": [
    {
     "data": {
      "text/plain": [
       "<pandas.core.groupby.generic.DataFrameGroupBy object at 0x7f7ed0322b80>"
      ]
     },
     "execution_count": 69,
     "metadata": {},
     "output_type": "execute_result"
    }
   ],
   "source": [
    "gb = df.groupby('BASIN')\n",
    "gb"
   ]
  },
  {
   "cell_type": "markdown",
   "metadata": {},
   "source": [
    "The length tells us how many groups were found:"
   ]
  },
  {
   "cell_type": "code",
   "execution_count": 70,
   "metadata": {},
   "outputs": [
    {
     "data": {
      "text/plain": [
       "6"
      ]
     },
     "execution_count": 70,
     "metadata": {},
     "output_type": "execute_result"
    }
   ],
   "source": [
    "len(gb)"
   ]
  },
  {
   "cell_type": "markdown",
   "metadata": {},
   "source": [
    "All of the groups are available as a dictionary via the `.groups` attribute:"
   ]
  },
  {
   "cell_type": "code",
   "execution_count": 71,
   "metadata": {},
   "outputs": [
    {
     "data": {
      "text/plain": [
       "6"
      ]
     },
     "execution_count": 71,
     "metadata": {},
     "output_type": "execute_result"
    }
   ],
   "source": [
    "groups = gb.groups\n",
    "len(groups)"
   ]
  },
  {
   "cell_type": "code",
   "execution_count": 72,
   "metadata": {},
   "outputs": [
    {
     "data": {
      "text/plain": [
       "['EP', 'NA', 'NI', 'SI', 'SP', 'WP']"
      ]
     },
     "execution_count": 72,
     "metadata": {},
     "output_type": "execute_result"
    }
   ],
   "source": [
    "list(groups.keys())"
   ]
  },
  {
   "cell_type": "markdown",
   "metadata": {},
   "source": [
    "### Iterating and selecting groups\n",
    "\n",
    "You can loop through the groups if you want."
   ]
  },
  {
   "cell_type": "code",
   "execution_count": 73,
   "metadata": {},
   "outputs": [
    {
     "data": {
      "text/html": [
       "<div>\n",
       "<style scoped>\n",
       "    .dataframe tbody tr th:only-of-type {\n",
       "        vertical-align: middle;\n",
       "    }\n",
       "\n",
       "    .dataframe tbody tr th {\n",
       "        vertical-align: top;\n",
       "    }\n",
       "\n",
       "    .dataframe thead th {\n",
       "        text-align: right;\n",
       "    }\n",
       "</style>\n",
       "<table border=\"1\" class=\"dataframe\">\n",
       "  <thead>\n",
       "    <tr style=\"text-align: right;\">\n",
       "      <th></th>\n",
       "      <th>SEASON</th>\n",
       "      <th>NUMBER</th>\n",
       "      <th>BASIN</th>\n",
       "      <th>SUBBASIN</th>\n",
       "      <th>NAME</th>\n",
       "      <th>ISO_TIME</th>\n",
       "      <th>NATURE</th>\n",
       "      <th>LAT</th>\n",
       "      <th>LON</th>\n",
       "      <th>WMO_WIND</th>\n",
       "      <th>WMO_PRES</th>\n",
       "    </tr>\n",
       "    <tr>\n",
       "      <th>SID</th>\n",
       "      <th></th>\n",
       "      <th></th>\n",
       "      <th></th>\n",
       "      <th></th>\n",
       "      <th></th>\n",
       "      <th></th>\n",
       "      <th></th>\n",
       "      <th></th>\n",
       "      <th></th>\n",
       "      <th></th>\n",
       "      <th></th>\n",
       "    </tr>\n",
       "  </thead>\n",
       "  <tbody>\n",
       "    <tr>\n",
       "      <th>2018131N12235</th>\n",
       "      <td>2018</td>\n",
       "      <td>23</td>\n",
       "      <td>EP</td>\n",
       "      <td>MM</td>\n",
       "      <td>NaN</td>\n",
       "      <td>2018-05-10 12:00:00</td>\n",
       "      <td>TS</td>\n",
       "      <td>12.1000</td>\n",
       "      <td>-125.400</td>\n",
       "      <td>25.0</td>\n",
       "      <td>1008.0</td>\n",
       "    </tr>\n",
       "    <tr>\n",
       "      <th>2018131N12235</th>\n",
       "      <td>2018</td>\n",
       "      <td>23</td>\n",
       "      <td>EP</td>\n",
       "      <td>MM</td>\n",
       "      <td>NaN</td>\n",
       "      <td>2018-05-10 15:00:00</td>\n",
       "      <td>TS</td>\n",
       "      <td>12.2101</td>\n",
       "      <td>-125.790</td>\n",
       "      <td>NaN</td>\n",
       "      <td>NaN</td>\n",
       "    </tr>\n",
       "    <tr>\n",
       "      <th>2018131N12235</th>\n",
       "      <td>2018</td>\n",
       "      <td>23</td>\n",
       "      <td>EP</td>\n",
       "      <td>MM</td>\n",
       "      <td>NaN</td>\n",
       "      <td>2018-05-10 18:00:00</td>\n",
       "      <td>TS</td>\n",
       "      <td>12.3000</td>\n",
       "      <td>-126.200</td>\n",
       "      <td>30.0</td>\n",
       "      <td>1007.0</td>\n",
       "    </tr>\n",
       "    <tr>\n",
       "      <th>2018131N12235</th>\n",
       "      <td>2018</td>\n",
       "      <td>23</td>\n",
       "      <td>EP</td>\n",
       "      <td>MM</td>\n",
       "      <td>NaN</td>\n",
       "      <td>2018-05-10 21:00:00</td>\n",
       "      <td>TS</td>\n",
       "      <td>12.3575</td>\n",
       "      <td>-126.643</td>\n",
       "      <td>NaN</td>\n",
       "      <td>NaN</td>\n",
       "    </tr>\n",
       "    <tr>\n",
       "      <th>2018131N12235</th>\n",
       "      <td>2018</td>\n",
       "      <td>23</td>\n",
       "      <td>EP</td>\n",
       "      <td>MM</td>\n",
       "      <td>NaN</td>\n",
       "      <td>2018-05-11 00:00:00</td>\n",
       "      <td>TS</td>\n",
       "      <td>12.4000</td>\n",
       "      <td>-127.100</td>\n",
       "      <td>30.0</td>\n",
       "      <td>1007.0</td>\n",
       "    </tr>\n",
       "  </tbody>\n",
       "</table>\n",
       "</div>"
      ],
      "text/plain": [
       "               SEASON  NUMBER BASIN SUBBASIN NAME            ISO_TIME NATURE  \\\n",
       "SID                                                                            \n",
       "2018131N12235    2018      23    EP       MM  NaN 2018-05-10 12:00:00     TS   \n",
       "2018131N12235    2018      23    EP       MM  NaN 2018-05-10 15:00:00     TS   \n",
       "2018131N12235    2018      23    EP       MM  NaN 2018-05-10 18:00:00     TS   \n",
       "2018131N12235    2018      23    EP       MM  NaN 2018-05-10 21:00:00     TS   \n",
       "2018131N12235    2018      23    EP       MM  NaN 2018-05-11 00:00:00     TS   \n",
       "\n",
       "                   LAT      LON  WMO_WIND  WMO_PRES  \n",
       "SID                                                  \n",
       "2018131N12235  12.1000 -125.400      25.0    1008.0  \n",
       "2018131N12235  12.2101 -125.790       NaN       NaN  \n",
       "2018131N12235  12.3000 -126.200      30.0    1007.0  \n",
       "2018131N12235  12.3575 -126.643       NaN       NaN  \n",
       "2018131N12235  12.4000 -127.100      30.0    1007.0  "
      ]
     },
     "metadata": {},
     "output_type": "display_data"
    },
    {
     "name": "stdout",
     "output_type": "stream",
     "text": [
      "The key is \"EP\"\n"
     ]
    }
   ],
   "source": [
    "for key, group in gb:\n",
    "    display(group.head())\n",
    "    print(f'The key is \"{key}\"')\n",
    "    break"
   ]
  },
  {
   "cell_type": "markdown",
   "metadata": {},
   "source": [
    "And you can get a specific group by key."
   ]
  },
  {
   "cell_type": "code",
   "execution_count": 74,
   "metadata": {},
   "outputs": [
    {
     "data": {
      "text/html": [
       "<div>\n",
       "<style scoped>\n",
       "    .dataframe tbody tr th:only-of-type {\n",
       "        vertical-align: middle;\n",
       "    }\n",
       "\n",
       "    .dataframe tbody tr th {\n",
       "        vertical-align: top;\n",
       "    }\n",
       "\n",
       "    .dataframe thead th {\n",
       "        text-align: right;\n",
       "    }\n",
       "</style>\n",
       "<table border=\"1\" class=\"dataframe\">\n",
       "  <thead>\n",
       "    <tr style=\"text-align: right;\">\n",
       "      <th></th>\n",
       "      <th>SEASON</th>\n",
       "      <th>NUMBER</th>\n",
       "      <th>BASIN</th>\n",
       "      <th>SUBBASIN</th>\n",
       "      <th>NAME</th>\n",
       "      <th>ISO_TIME</th>\n",
       "      <th>NATURE</th>\n",
       "      <th>LAT</th>\n",
       "      <th>LON</th>\n",
       "      <th>WMO_WIND</th>\n",
       "      <th>WMO_PRES</th>\n",
       "    </tr>\n",
       "    <tr>\n",
       "      <th>SID</th>\n",
       "      <th></th>\n",
       "      <th></th>\n",
       "      <th></th>\n",
       "      <th></th>\n",
       "      <th></th>\n",
       "      <th></th>\n",
       "      <th></th>\n",
       "      <th></th>\n",
       "      <th></th>\n",
       "      <th></th>\n",
       "      <th></th>\n",
       "    </tr>\n",
       "  </thead>\n",
       "  <tbody>\n",
       "    <tr>\n",
       "      <th>2018027S11156</th>\n",
       "      <td>2018</td>\n",
       "      <td>5</td>\n",
       "      <td>SP</td>\n",
       "      <td>EA</td>\n",
       "      <td>FEHI</td>\n",
       "      <td>2018-01-26 12:00:00</td>\n",
       "      <td>DS</td>\n",
       "      <td>-11.4000</td>\n",
       "      <td>156.100</td>\n",
       "      <td>NaN</td>\n",
       "      <td>NaN</td>\n",
       "    </tr>\n",
       "    <tr>\n",
       "      <th>2018027S11156</th>\n",
       "      <td>2018</td>\n",
       "      <td>5</td>\n",
       "      <td>SP</td>\n",
       "      <td>EA</td>\n",
       "      <td>FEHI</td>\n",
       "      <td>2018-01-26 15:00:00</td>\n",
       "      <td>DS</td>\n",
       "      <td>-11.5675</td>\n",
       "      <td>156.525</td>\n",
       "      <td>NaN</td>\n",
       "      <td>NaN</td>\n",
       "    </tr>\n",
       "    <tr>\n",
       "      <th>2018027S11156</th>\n",
       "      <td>2018</td>\n",
       "      <td>5</td>\n",
       "      <td>SP</td>\n",
       "      <td>EA</td>\n",
       "      <td>FEHI</td>\n",
       "      <td>2018-01-26 18:00:00</td>\n",
       "      <td>DS</td>\n",
       "      <td>-11.8000</td>\n",
       "      <td>157.000</td>\n",
       "      <td>NaN</td>\n",
       "      <td>NaN</td>\n",
       "    </tr>\n",
       "    <tr>\n",
       "      <th>2018027S11156</th>\n",
       "      <td>2018</td>\n",
       "      <td>5</td>\n",
       "      <td>SP</td>\n",
       "      <td>EA</td>\n",
       "      <td>FEHI</td>\n",
       "      <td>2018-01-26 21:00:00</td>\n",
       "      <td>DS</td>\n",
       "      <td>-12.1477</td>\n",
       "      <td>157.537</td>\n",
       "      <td>NaN</td>\n",
       "      <td>NaN</td>\n",
       "    </tr>\n",
       "    <tr>\n",
       "      <th>2018027S11156</th>\n",
       "      <td>2018</td>\n",
       "      <td>5</td>\n",
       "      <td>SP</td>\n",
       "      <td>EA</td>\n",
       "      <td>FEHI</td>\n",
       "      <td>2018-01-27 00:00:00</td>\n",
       "      <td>TS</td>\n",
       "      <td>-12.6000</td>\n",
       "      <td>158.000</td>\n",
       "      <td>NaN</td>\n",
       "      <td>NaN</td>\n",
       "    </tr>\n",
       "  </tbody>\n",
       "</table>\n",
       "</div>"
      ],
      "text/plain": [
       "               SEASON  NUMBER BASIN SUBBASIN  NAME            ISO_TIME NATURE  \\\n",
       "SID                                                                             \n",
       "2018027S11156    2018       5    SP       EA  FEHI 2018-01-26 12:00:00     DS   \n",
       "2018027S11156    2018       5    SP       EA  FEHI 2018-01-26 15:00:00     DS   \n",
       "2018027S11156    2018       5    SP       EA  FEHI 2018-01-26 18:00:00     DS   \n",
       "2018027S11156    2018       5    SP       EA  FEHI 2018-01-26 21:00:00     DS   \n",
       "2018027S11156    2018       5    SP       EA  FEHI 2018-01-27 00:00:00     TS   \n",
       "\n",
       "                   LAT      LON  WMO_WIND  WMO_PRES  \n",
       "SID                                                  \n",
       "2018027S11156 -11.4000  156.100       NaN       NaN  \n",
       "2018027S11156 -11.5675  156.525       NaN       NaN  \n",
       "2018027S11156 -11.8000  157.000       NaN       NaN  \n",
       "2018027S11156 -12.1477  157.537       NaN       NaN  \n",
       "2018027S11156 -12.6000  158.000       NaN       NaN  "
      ]
     },
     "execution_count": 74,
     "metadata": {},
     "output_type": "execute_result"
    }
   ],
   "source": [
    "gb.get_group('SP').head()"
   ]
  },
  {
   "cell_type": "markdown",
   "metadata": {},
   "source": [
    "## Aggregation\n",
    "\n",
    "Now that we know how to create a `GroupBy` object, let's learn how to do aggregation on it.\n",
    "\n",
    "One way us to use the `.aggregate` method, which accepts another function as its argument. The result is automatically combined into a new dataframe with the group key as the index."
   ]
  },
  {
   "cell_type": "markdown",
   "metadata": {},
   "source": [
    "We can use both `.` or `[]` syntax to select a specific column to operate on. Then we get back a series."
   ]
  },
  {
   "cell_type": "code",
   "execution_count": 75,
   "metadata": {},
   "outputs": [
    {
     "data": {
      "text/plain": [
       "BASIN\n",
       "EP    140.0\n",
       "NA    160.0\n",
       "NI     95.0\n",
       "SI    125.0\n",
       "SP    110.0\n",
       "Name: WMO_WIND, dtype: float64"
      ]
     },
     "execution_count": 75,
     "metadata": {},
     "output_type": "execute_result"
    }
   ],
   "source": [
    "gb.WMO_WIND.aggregate(np.max).head()"
   ]
  },
  {
   "cell_type": "code",
   "execution_count": 76,
   "metadata": {},
   "outputs": [
    {
     "data": {
      "text/plain": [
       "BASIN\n",
       "NA    160.0\n",
       "EP    140.0\n",
       "SI    125.0\n",
       "WP    115.0\n",
       "SP    110.0\n",
       "NI     95.0\n",
       "Name: WMO_WIND, dtype: float64"
      ]
     },
     "execution_count": 76,
     "metadata": {},
     "output_type": "execute_result"
    }
   ],
   "source": [
    "gb.WMO_WIND.aggregate(np.max).nlargest(10)"
   ]
  },
  {
   "cell_type": "markdown",
   "metadata": {},
   "source": [
    "There are shortcuts for common aggregation functions:"
   ]
  },
  {
   "cell_type": "code",
   "execution_count": 77,
   "metadata": {},
   "outputs": [
    {
     "data": {
      "text/plain": [
       "BASIN\n",
       "NA    160.0\n",
       "EP    140.0\n",
       "SI    125.0\n",
       "WP    115.0\n",
       "SP    110.0\n",
       "NI     95.0\n",
       "Name: WMO_WIND, dtype: float64"
      ]
     },
     "execution_count": 77,
     "metadata": {},
     "output_type": "execute_result"
    }
   ],
   "source": [
    "gb.WMO_WIND.max().nlargest(10)"
   ]
  },
  {
   "cell_type": "code",
   "execution_count": 78,
   "metadata": {},
   "outputs": [
    {
     "data": {
      "text/plain": [
       "BASIN\n",
       "SI    10.0\n",
       "EP    15.0\n",
       "NA    15.0\n",
       "SP    15.0\n",
       "NI    20.0\n",
       "WP    35.0\n",
       "Name: WMO_WIND, dtype: float64"
      ]
     },
     "execution_count": 78,
     "metadata": {},
     "output_type": "execute_result"
    }
   ],
   "source": [
    "gb.WMO_WIND.min().nsmallest(10)"
   ]
  },
  {
   "cell_type": "code",
   "execution_count": 79,
   "metadata": {},
   "outputs": [
    {
     "data": {
      "text/plain": [
       "BASIN\n",
       "WP    61.534009\n",
       "EP    51.912698\n",
       "NA    50.308810\n",
       "SP    47.766520\n",
       "SI    46.231362\n",
       "NI    41.353846\n",
       "Name: WMO_WIND, dtype: float64"
      ]
     },
     "execution_count": 79,
     "metadata": {},
     "output_type": "execute_result"
    }
   ],
   "source": [
    "gb.WMO_WIND.mean().nlargest(10)"
   ]
  },
  {
   "cell_type": "code",
   "execution_count": 80,
   "metadata": {},
   "outputs": [
    {
     "data": {
      "text/plain": [
       "BASIN\n",
       "EP    30.176084\n",
       "NA    24.634510\n",
       "SP    23.220435\n",
       "WP    22.915217\n",
       "SI    22.771114\n",
       "NI    17.673680\n",
       "Name: WMO_WIND, dtype: float64"
      ]
     },
     "execution_count": 80,
     "metadata": {},
     "output_type": "execute_result"
    }
   ],
   "source": [
    "gb.WMO_WIND.std().nlargest(10)"
   ]
  },
  {
   "cell_type": "markdown",
   "metadata": {},
   "source": [
    "We can also apply multiple functions at once:"
   ]
  },
  {
   "cell_type": "code",
   "execution_count": 81,
   "metadata": {},
   "outputs": [
    {
     "data": {
      "text/html": [
       "<div>\n",
       "<style scoped>\n",
       "    .dataframe tbody tr th:only-of-type {\n",
       "        vertical-align: middle;\n",
       "    }\n",
       "\n",
       "    .dataframe tbody tr th {\n",
       "        vertical-align: top;\n",
       "    }\n",
       "\n",
       "    .dataframe thead th {\n",
       "        text-align: right;\n",
       "    }\n",
       "</style>\n",
       "<table border=\"1\" class=\"dataframe\">\n",
       "  <thead>\n",
       "    <tr style=\"text-align: right;\">\n",
       "      <th></th>\n",
       "      <th>amin</th>\n",
       "      <th>amax</th>\n",
       "      <th>mean</th>\n",
       "    </tr>\n",
       "    <tr>\n",
       "      <th>BASIN</th>\n",
       "      <th></th>\n",
       "      <th></th>\n",
       "      <th></th>\n",
       "    </tr>\n",
       "  </thead>\n",
       "  <tbody>\n",
       "    <tr>\n",
       "      <th>EP</th>\n",
       "      <td>15.0</td>\n",
       "      <td>140.0</td>\n",
       "      <td>51.912698</td>\n",
       "    </tr>\n",
       "    <tr>\n",
       "      <th>NA</th>\n",
       "      <td>15.0</td>\n",
       "      <td>160.0</td>\n",
       "      <td>50.308810</td>\n",
       "    </tr>\n",
       "    <tr>\n",
       "      <th>NI</th>\n",
       "      <td>20.0</td>\n",
       "      <td>95.0</td>\n",
       "      <td>41.353846</td>\n",
       "    </tr>\n",
       "    <tr>\n",
       "      <th>SI</th>\n",
       "      <td>10.0</td>\n",
       "      <td>125.0</td>\n",
       "      <td>46.231362</td>\n",
       "    </tr>\n",
       "    <tr>\n",
       "      <th>SP</th>\n",
       "      <td>15.0</td>\n",
       "      <td>110.0</td>\n",
       "      <td>47.766520</td>\n",
       "    </tr>\n",
       "  </tbody>\n",
       "</table>\n",
       "</div>"
      ],
      "text/plain": [
       "       amin   amax       mean\n",
       "BASIN                        \n",
       "EP     15.0  140.0  51.912698\n",
       "NA     15.0  160.0  50.308810\n",
       "NI     20.0   95.0  41.353846\n",
       "SI     10.0  125.0  46.231362\n",
       "SP     15.0  110.0  47.766520"
      ]
     },
     "execution_count": 81,
     "metadata": {},
     "output_type": "execute_result"
    }
   ],
   "source": [
    "gb.WMO_WIND.aggregate([np.min, np.max, np.mean]).head()"
   ]
  },
  {
   "cell_type": "code",
   "execution_count": 82,
   "metadata": {},
   "outputs": [
    {
     "data": {
      "text/plain": [
       "<AxesSubplot:xlabel='BASIN'>"
      ]
     },
     "execution_count": 82,
     "metadata": {},
     "output_type": "execute_result"
    },
    {
     "data": {
      "image/png": "[encoded data removed]",
      "text/plain": [
       "<Figure size 432x288 with 1 Axes>"
      ]
     },
     "metadata": {
      "needs_background": "light"
     },
     "output_type": "display_data"
    }
   ],
   "source": [
    "gb.WMO_WIND.aggregate([np.min, np.max, np.mean]).nlargest(10, 'mean').plot(kind='bar')"
   ]
  },
  {
   "cell_type": "markdown",
   "metadata": {},
   "source": [
    "## Transformation\n",
    "\n",
    "The key difference between aggregation and transformation is that aggregation returns a *smaller* object than the original, indexed by the group keys, while *transformation* returns an object with the same index (and same size) as the original object. Groupby + transformation is used when applying an operation that requires information about the whole group.\n",
    "\n",
    "In this example, we standardize the earthquakes in each country so that the distribution has zero mean and unit variance. We do this by first defining a function called `standardize` and then passing it to the `transform` method.\n",
    "\n",
    "I admit that I don't know why you would want to do this. `transform` makes more sense to me in the context of time grouping operation. See below for another example."
   ]
  },
  {
   "cell_type": "code",
   "execution_count": 84,
   "metadata": {},
   "outputs": [
    {
     "data": {
      "text/plain": [
       "SID\n",
       "2018004S08095   -0.932381\n",
       "2018004S08095         NaN\n",
       "2018004S08095   -0.932381\n",
       "2018004S08095         NaN\n",
       "2018004S08095   -0.932381\n",
       "                   ...   \n",
       "2021067S24058         NaN\n",
       "2021067S24058         NaN\n",
       "2021067S24058         NaN\n",
       "2021067S24058         NaN\n",
       "2021067S24058         NaN\n",
       "Name: WMO_WIND, Length: 17783, dtype: float64"
      ]
     },
     "execution_count": 84,
     "metadata": {},
     "output_type": "execute_result"
    }
   ],
   "source": [
    "def standardize(x):\n",
    "    return (x - x.mean())/x.std()\n",
    "\n",
    "wind_standardized_by_basin = gb.WMO_WIND.transform(standardize)\n",
    "wind_standardized_by_basin"
   ]
  },
  {
   "cell_type": "markdown",
   "metadata": {},
   "source": [
    "## Time Grouping\n",
    "\n",
    "We already saw how pandas has a strong built-in understanding of time. This capability is even more powerful in the context of `groupby`. With datasets indexed by a pandas `DateTimeIndex`, we can easily group and resample the data using common time units.\n",
    "\n",
    "To get started, let's load a NOAA timeseries data:"
   ]
  },
  {
   "cell_type": "code",
   "execution_count": 85,
   "metadata": {},
   "outputs": [],
   "source": [
    "import urllib\n",
    "\n",
    "header_url = 'ftp://ftp.ncdc.noaa.gov/pub/data/uscrn/products/daily01/HEADERS.txt'\n",
    "with urllib.request.urlopen(header_url) as response:\n",
    "    data = response.read().decode('utf-8')\n",
    "lines = data.split('\\n')\n",
    "headers = lines[1].split(' ')\n",
    "\n",
    "ftp_base = 'ftp://ftp.ncdc.noaa.gov/pub/data/uscrn/products/daily01/'\n",
    "dframes = []\n",
    "for year in range(2016, 2019):\n",
    "    data_url = f'{year}/CRND0103-{year}-NY_Millbrook_3_W.txt'               \n",
    "    df = pd.read_csv(ftp_base + data_url, parse_dates=[1],\n",
    "                     names=headers, header=None, sep='\\s+',\n",
    "                     na_values=[-9999.0, -99.0])\n",
    "    dframes.append(df)\n",
    "\n",
    "df = pd.concat(dframes)\n",
    "df = df.set_index('LST_DATE')"
   ]
  },
  {
   "cell_type": "code",
   "execution_count": 54,
   "metadata": {},
   "outputs": [
    {
     "data": {
      "text/html": [
       "<div>\n",
       "<style scoped>\n",
       "    .dataframe tbody tr th:only-of-type {\n",
       "        vertical-align: middle;\n",
       "    }\n",
       "\n",
       "    .dataframe tbody tr th {\n",
       "        vertical-align: top;\n",
       "    }\n",
       "\n",
       "    .dataframe thead th {\n",
       "        text-align: right;\n",
       "    }\n",
       "</style>\n",
       "<table border=\"1\" class=\"dataframe\">\n",
       "  <thead>\n",
       "    <tr style=\"text-align: right;\">\n",
       "      <th></th>\n",
       "      <th>WBANNO</th>\n",
       "      <th>CRX_VN</th>\n",
       "      <th>LONGITUDE</th>\n",
       "      <th>LATITUDE</th>\n",
       "      <th>T_DAILY_MAX</th>\n",
       "      <th>T_DAILY_MIN</th>\n",
       "      <th>T_DAILY_MEAN</th>\n",
       "      <th>T_DAILY_AVG</th>\n",
       "      <th>P_DAILY_CALC</th>\n",
       "      <th>SOLARAD_DAILY</th>\n",
       "      <th>...</th>\n",
       "      <th>SOIL_MOISTURE_10_DAILY</th>\n",
       "      <th>SOIL_MOISTURE_20_DAILY</th>\n",
       "      <th>SOIL_MOISTURE_50_DAILY</th>\n",
       "      <th>SOIL_MOISTURE_100_DAILY</th>\n",
       "      <th>SOIL_TEMP_5_DAILY</th>\n",
       "      <th>SOIL_TEMP_10_DAILY</th>\n",
       "      <th>SOIL_TEMP_20_DAILY</th>\n",
       "      <th>SOIL_TEMP_50_DAILY</th>\n",
       "      <th>SOIL_TEMP_100_DAILY</th>\n",
       "      <th></th>\n",
       "    </tr>\n",
       "    <tr>\n",
       "      <th>LST_DATE</th>\n",
       "      <th></th>\n",
       "      <th></th>\n",
       "      <th></th>\n",
       "      <th></th>\n",
       "      <th></th>\n",
       "      <th></th>\n",
       "      <th></th>\n",
       "      <th></th>\n",
       "      <th></th>\n",
       "      <th></th>\n",
       "      <th></th>\n",
       "      <th></th>\n",
       "      <th></th>\n",
       "      <th></th>\n",
       "      <th></th>\n",
       "      <th></th>\n",
       "      <th></th>\n",
       "      <th></th>\n",
       "      <th></th>\n",
       "      <th></th>\n",
       "      <th></th>\n",
       "    </tr>\n",
       "  </thead>\n",
       "  <tbody>\n",
       "    <tr>\n",
       "      <th>2016-01-01</th>\n",
       "      <td>64756</td>\n",
       "      <td>2.422</td>\n",
       "      <td>-73.74</td>\n",
       "      <td>41.79</td>\n",
       "      <td>3.4</td>\n",
       "      <td>-0.5</td>\n",
       "      <td>1.5</td>\n",
       "      <td>1.3</td>\n",
       "      <td>0.0</td>\n",
       "      <td>1.69</td>\n",
       "      <td>...</td>\n",
       "      <td>0.233</td>\n",
       "      <td>0.204</td>\n",
       "      <td>0.155</td>\n",
       "      <td>0.147</td>\n",
       "      <td>4.2</td>\n",
       "      <td>4.4</td>\n",
       "      <td>5.1</td>\n",
       "      <td>6.0</td>\n",
       "      <td>7.6</td>\n",
       "      <td>NaN</td>\n",
       "    </tr>\n",
       "    <tr>\n",
       "      <th>2016-01-02</th>\n",
       "      <td>64756</td>\n",
       "      <td>2.422</td>\n",
       "      <td>-73.74</td>\n",
       "      <td>41.79</td>\n",
       "      <td>2.9</td>\n",
       "      <td>-3.6</td>\n",
       "      <td>-0.4</td>\n",
       "      <td>-0.3</td>\n",
       "      <td>0.0</td>\n",
       "      <td>6.25</td>\n",
       "      <td>...</td>\n",
       "      <td>0.227</td>\n",
       "      <td>0.199</td>\n",
       "      <td>0.152</td>\n",
       "      <td>0.144</td>\n",
       "      <td>2.8</td>\n",
       "      <td>3.1</td>\n",
       "      <td>4.2</td>\n",
       "      <td>5.7</td>\n",
       "      <td>7.4</td>\n",
       "      <td>NaN</td>\n",
       "    </tr>\n",
       "    <tr>\n",
       "      <th>2016-01-03</th>\n",
       "      <td>64756</td>\n",
       "      <td>2.422</td>\n",
       "      <td>-73.74</td>\n",
       "      <td>41.79</td>\n",
       "      <td>5.1</td>\n",
       "      <td>-1.8</td>\n",
       "      <td>1.6</td>\n",
       "      <td>1.1</td>\n",
       "      <td>0.0</td>\n",
       "      <td>5.69</td>\n",
       "      <td>...</td>\n",
       "      <td>0.223</td>\n",
       "      <td>0.196</td>\n",
       "      <td>0.151</td>\n",
       "      <td>0.141</td>\n",
       "      <td>2.6</td>\n",
       "      <td>2.8</td>\n",
       "      <td>3.8</td>\n",
       "      <td>5.2</td>\n",
       "      <td>7.2</td>\n",
       "      <td>NaN</td>\n",
       "    </tr>\n",
       "    <tr>\n",
       "      <th>2016-01-04</th>\n",
       "      <td>64756</td>\n",
       "      <td>2.422</td>\n",
       "      <td>-73.74</td>\n",
       "      <td>41.79</td>\n",
       "      <td>0.5</td>\n",
       "      <td>-14.4</td>\n",
       "      <td>-6.9</td>\n",
       "      <td>-7.5</td>\n",
       "      <td>0.0</td>\n",
       "      <td>9.17</td>\n",
       "      <td>...</td>\n",
       "      <td>0.220</td>\n",
       "      <td>0.194</td>\n",
       "      <td>0.148</td>\n",
       "      <td>0.139</td>\n",
       "      <td>1.7</td>\n",
       "      <td>2.1</td>\n",
       "      <td>3.4</td>\n",
       "      <td>4.9</td>\n",
       "      <td>6.9</td>\n",
       "      <td>NaN</td>\n",
       "    </tr>\n",
       "    <tr>\n",
       "      <th>2016-01-05</th>\n",
       "      <td>64756</td>\n",
       "      <td>2.422</td>\n",
       "      <td>-73.74</td>\n",
       "      <td>41.79</td>\n",
       "      <td>-5.2</td>\n",
       "      <td>-15.5</td>\n",
       "      <td>-10.3</td>\n",
       "      <td>-11.7</td>\n",
       "      <td>0.0</td>\n",
       "      <td>9.34</td>\n",
       "      <td>...</td>\n",
       "      <td>0.213</td>\n",
       "      <td>0.191</td>\n",
       "      <td>0.148</td>\n",
       "      <td>0.138</td>\n",
       "      <td>0.4</td>\n",
       "      <td>0.9</td>\n",
       "      <td>2.4</td>\n",
       "      <td>4.3</td>\n",
       "      <td>6.6</td>\n",
       "      <td>NaN</td>\n",
       "    </tr>\n",
       "  </tbody>\n",
       "</table>\n",
       "<p>5 rows × 28 columns</p>\n",
       "</div>"
      ],
      "text/plain": [
       "            WBANNO  CRX_VN  LONGITUDE  LATITUDE  T_DAILY_MAX  T_DAILY_MIN  \\\n",
       "LST_DATE                                                                    \n",
       "2016-01-01   64756   2.422     -73.74     41.79          3.4         -0.5   \n",
       "2016-01-02   64756   2.422     -73.74     41.79          2.9         -3.6   \n",
       "2016-01-03   64756   2.422     -73.74     41.79          5.1         -1.8   \n",
       "2016-01-04   64756   2.422     -73.74     41.79          0.5        -14.4   \n",
       "2016-01-05   64756   2.422     -73.74     41.79         -5.2        -15.5   \n",
       "\n",
       "            T_DAILY_MEAN  T_DAILY_AVG  P_DAILY_CALC  SOLARAD_DAILY  ...  \\\n",
       "LST_DATE                                                            ...   \n",
       "2016-01-01           1.5          1.3           0.0           1.69  ...   \n",
       "2016-01-02          -0.4         -0.3           0.0           6.25  ...   \n",
       "2016-01-03           1.6          1.1           0.0           5.69  ...   \n",
       "2016-01-04          -6.9         -7.5           0.0           9.17  ...   \n",
       "2016-01-05         -10.3        -11.7           0.0           9.34  ...   \n",
       "\n",
       "           SOIL_MOISTURE_10_DAILY  SOIL_MOISTURE_20_DAILY  \\\n",
       "LST_DATE                                                    \n",
       "2016-01-01                  0.233                   0.204   \n",
       "2016-01-02                  0.227                   0.199   \n",
       "2016-01-03                  0.223                   0.196   \n",
       "2016-01-04                  0.220                   0.194   \n",
       "2016-01-05                  0.213                   0.191   \n",
       "\n",
       "            SOIL_MOISTURE_50_DAILY  SOIL_MOISTURE_100_DAILY  \\\n",
       "LST_DATE                                                      \n",
       "2016-01-01                   0.155                    0.147   \n",
       "2016-01-02                   0.152                    0.144   \n",
       "2016-01-03                   0.151                    0.141   \n",
       "2016-01-04                   0.148                    0.139   \n",
       "2016-01-05                   0.148                    0.138   \n",
       "\n",
       "            SOIL_TEMP_5_DAILY  SOIL_TEMP_10_DAILY  SOIL_TEMP_20_DAILY  \\\n",
       "LST_DATE                                                                \n",
       "2016-01-01                4.2                 4.4                 5.1   \n",
       "2016-01-02                2.8                 3.1                 4.2   \n",
       "2016-01-03                2.6                 2.8                 3.8   \n",
       "2016-01-04                1.7                 2.1                 3.4   \n",
       "2016-01-05                0.4                 0.9                 2.4   \n",
       "\n",
       "            SOIL_TEMP_50_DAILY  SOIL_TEMP_100_DAILY      \n",
       "LST_DATE                                                 \n",
       "2016-01-01                 6.0                  7.6 NaN  \n",
       "2016-01-02                 5.7                  7.4 NaN  \n",
       "2016-01-03                 5.2                  7.2 NaN  \n",
       "2016-01-04                 4.9                  6.9 NaN  \n",
       "2016-01-05                 4.3                  6.6 NaN  \n",
       "\n",
       "[5 rows x 28 columns]"
      ]
     },
     "execution_count": 54,
     "metadata": {},
     "output_type": "execute_result"
    }
   ],
   "source": [
    "df.head()"
   ]
  },
  {
   "cell_type": "markdown",
   "metadata": {},
   "source": [
    "This timeseries has daily resolution, and the daily plots are somewhat noisy."
   ]
  },
  {
   "cell_type": "code",
   "execution_count": 55,
   "metadata": {},
   "outputs": [
    {
     "data": {
      "text/plain": [
       "<AxesSubplot:xlabel='LST_DATE'>"
      ]
     },
     "execution_count": 55,
     "metadata": {},
     "output_type": "execute_result"
    },
    {
     "data": {
      "image/png": "[encoded data removed]",
      "text/plain": [
       "<Figure size 432x288 with 1 Axes>"
      ]
     },
     "metadata": {
      "needs_background": "light"
     },
     "output_type": "display_data"
    }
   ],
   "source": [
    "df.T_DAILY_MEAN.plot()"
   ]
  },
  {
   "cell_type": "markdown",
   "metadata": {},
   "source": [
    "A common way to analyze such data in climate science is to create a \"climatology,\" which contains the average values in each month or day of the year. We can do this easily with groupby. Recall that `df.index` is a pandas `DateTimeIndex` object."
   ]
  },
  {
   "cell_type": "code",
   "execution_count": 56,
   "metadata": {},
   "outputs": [
    {
     "data": {
      "text/html": [
       "<div>\n",
       "<style scoped>\n",
       "    .dataframe tbody tr th:only-of-type {\n",
       "        vertical-align: middle;\n",
       "    }\n",
       "\n",
       "    .dataframe tbody tr th {\n",
       "        vertical-align: top;\n",
       "    }\n",
       "\n",
       "    .dataframe thead th {\n",
       "        text-align: right;\n",
       "    }\n",
       "</style>\n",
       "<table border=\"1\" class=\"dataframe\">\n",
       "  <thead>\n",
       "    <tr style=\"text-align: right;\">\n",
       "      <th></th>\n",
       "      <th>WBANNO</th>\n",
       "      <th>CRX_VN</th>\n",
       "      <th>LONGITUDE</th>\n",
       "      <th>LATITUDE</th>\n",
       "      <th>T_DAILY_MAX</th>\n",
       "      <th>T_DAILY_MIN</th>\n",
       "      <th>T_DAILY_MEAN</th>\n",
       "      <th>T_DAILY_AVG</th>\n",
       "      <th>P_DAILY_CALC</th>\n",
       "      <th>SOLARAD_DAILY</th>\n",
       "      <th>...</th>\n",
       "      <th>SOIL_MOISTURE_10_DAILY</th>\n",
       "      <th>SOIL_MOISTURE_20_DAILY</th>\n",
       "      <th>SOIL_MOISTURE_50_DAILY</th>\n",
       "      <th>SOIL_MOISTURE_100_DAILY</th>\n",
       "      <th>SOIL_TEMP_5_DAILY</th>\n",
       "      <th>SOIL_TEMP_10_DAILY</th>\n",
       "      <th>SOIL_TEMP_20_DAILY</th>\n",
       "      <th>SOIL_TEMP_50_DAILY</th>\n",
       "      <th>SOIL_TEMP_100_DAILY</th>\n",
       "      <th></th>\n",
       "    </tr>\n",
       "    <tr>\n",
       "      <th>LST_DATE</th>\n",
       "      <th></th>\n",
       "      <th></th>\n",
       "      <th></th>\n",
       "      <th></th>\n",
       "      <th></th>\n",
       "      <th></th>\n",
       "      <th></th>\n",
       "      <th></th>\n",
       "      <th></th>\n",
       "      <th></th>\n",
       "      <th></th>\n",
       "      <th></th>\n",
       "      <th></th>\n",
       "      <th></th>\n",
       "      <th></th>\n",
       "      <th></th>\n",
       "      <th></th>\n",
       "      <th></th>\n",
       "      <th></th>\n",
       "      <th></th>\n",
       "      <th></th>\n",
       "    </tr>\n",
       "  </thead>\n",
       "  <tbody>\n",
       "    <tr>\n",
       "      <th>1</th>\n",
       "      <td>64756</td>\n",
       "      <td>2.488667</td>\n",
       "      <td>-73.74</td>\n",
       "      <td>41.79</td>\n",
       "      <td>2.924731</td>\n",
       "      <td>-7.122581</td>\n",
       "      <td>-2.100000</td>\n",
       "      <td>-1.905376</td>\n",
       "      <td>2.478495</td>\n",
       "      <td>5.812258</td>\n",
       "      <td>...</td>\n",
       "      <td>0.240250</td>\n",
       "      <td>0.199528</td>\n",
       "      <td>0.150387</td>\n",
       "      <td>0.162554</td>\n",
       "      <td>0.168817</td>\n",
       "      <td>0.232258</td>\n",
       "      <td>0.788172</td>\n",
       "      <td>1.749462</td>\n",
       "      <td>3.395699</td>\n",
       "      <td>NaN</td>\n",
       "    </tr>\n",
       "    <tr>\n",
       "      <th>2</th>\n",
       "      <td>64756</td>\n",
       "      <td>2.487882</td>\n",
       "      <td>-73.74</td>\n",
       "      <td>41.79</td>\n",
       "      <td>6.431765</td>\n",
       "      <td>-5.015294</td>\n",
       "      <td>0.712941</td>\n",
       "      <td>1.022353</td>\n",
       "      <td>4.077647</td>\n",
       "      <td>8.495882</td>\n",
       "      <td>...</td>\n",
       "      <td>0.244229</td>\n",
       "      <td>0.203089</td>\n",
       "      <td>0.154294</td>\n",
       "      <td>0.165494</td>\n",
       "      <td>1.217647</td>\n",
       "      <td>1.183529</td>\n",
       "      <td>1.281176</td>\n",
       "      <td>1.602353</td>\n",
       "      <td>2.460000</td>\n",
       "      <td>NaN</td>\n",
       "    </tr>\n",
       "    <tr>\n",
       "      <th>3</th>\n",
       "      <td>64756</td>\n",
       "      <td>2.488667</td>\n",
       "      <td>-73.74</td>\n",
       "      <td>41.79</td>\n",
       "      <td>7.953763</td>\n",
       "      <td>-3.035484</td>\n",
       "      <td>2.455914</td>\n",
       "      <td>2.643011</td>\n",
       "      <td>2.788172</td>\n",
       "      <td>13.211290</td>\n",
       "      <td>...</td>\n",
       "      <td>0.224155</td>\n",
       "      <td>0.190753</td>\n",
       "      <td>0.153108</td>\n",
       "      <td>0.161742</td>\n",
       "      <td>3.469892</td>\n",
       "      <td>3.407527</td>\n",
       "      <td>3.379570</td>\n",
       "      <td>3.473118</td>\n",
       "      <td>3.792473</td>\n",
       "      <td>NaN</td>\n",
       "    </tr>\n",
       "    <tr>\n",
       "      <th>4</th>\n",
       "      <td>64756</td>\n",
       "      <td>2.488667</td>\n",
       "      <td>-73.74</td>\n",
       "      <td>41.79</td>\n",
       "      <td>14.793333</td>\n",
       "      <td>1.816667</td>\n",
       "      <td>8.302222</td>\n",
       "      <td>8.574444</td>\n",
       "      <td>2.396667</td>\n",
       "      <td>15.295889</td>\n",
       "      <td>...</td>\n",
       "      <td>0.208611</td>\n",
       "      <td>0.183922</td>\n",
       "      <td>0.150022</td>\n",
       "      <td>0.159956</td>\n",
       "      <td>9.402222</td>\n",
       "      <td>9.140000</td>\n",
       "      <td>8.438889</td>\n",
       "      <td>7.600000</td>\n",
       "      <td>6.633333</td>\n",
       "      <td>NaN</td>\n",
       "    </tr>\n",
       "    <tr>\n",
       "      <th>5</th>\n",
       "      <td>64756</td>\n",
       "      <td>2.488667</td>\n",
       "      <td>-73.74</td>\n",
       "      <td>41.79</td>\n",
       "      <td>21.235484</td>\n",
       "      <td>8.460215</td>\n",
       "      <td>14.850538</td>\n",
       "      <td>15.121505</td>\n",
       "      <td>3.015054</td>\n",
       "      <td>17.288602</td>\n",
       "      <td>...</td>\n",
       "      <td>0.198925</td>\n",
       "      <td>0.175441</td>\n",
       "      <td>0.146011</td>\n",
       "      <td>0.157710</td>\n",
       "      <td>16.889247</td>\n",
       "      <td>16.693548</td>\n",
       "      <td>15.570968</td>\n",
       "      <td>14.193548</td>\n",
       "      <td>12.344086</td>\n",
       "      <td>NaN</td>\n",
       "    </tr>\n",
       "    <tr>\n",
       "      <th>6</th>\n",
       "      <td>64756</td>\n",
       "      <td>2.488667</td>\n",
       "      <td>-73.74</td>\n",
       "      <td>41.79</td>\n",
       "      <td>25.627778</td>\n",
       "      <td>11.837778</td>\n",
       "      <td>18.733333</td>\n",
       "      <td>19.026667</td>\n",
       "      <td>3.053333</td>\n",
       "      <td>21.913333</td>\n",
       "      <td>...</td>\n",
       "      <td>0.132867</td>\n",
       "      <td>0.127067</td>\n",
       "      <td>0.128344</td>\n",
       "      <td>0.154989</td>\n",
       "      <td>22.372222</td>\n",
       "      <td>22.198889</td>\n",
       "      <td>20.917778</td>\n",
       "      <td>19.421111</td>\n",
       "      <td>17.453333</td>\n",
       "      <td>NaN</td>\n",
       "    </tr>\n",
       "    <tr>\n",
       "      <th>7</th>\n",
       "      <td>64756</td>\n",
       "      <td>2.488667</td>\n",
       "      <td>-73.74</td>\n",
       "      <td>41.79</td>\n",
       "      <td>28.568817</td>\n",
       "      <td>15.536559</td>\n",
       "      <td>22.054839</td>\n",
       "      <td>22.012903</td>\n",
       "      <td>3.865591</td>\n",
       "      <td>21.570645</td>\n",
       "      <td>...</td>\n",
       "      <td>0.100871</td>\n",
       "      <td>0.084978</td>\n",
       "      <td>0.112516</td>\n",
       "      <td>0.153264</td>\n",
       "      <td>25.453763</td>\n",
       "      <td>25.408602</td>\n",
       "      <td>24.141935</td>\n",
       "      <td>22.725806</td>\n",
       "      <td>20.994624</td>\n",
       "      <td>NaN</td>\n",
       "    </tr>\n",
       "    <tr>\n",
       "      <th>8</th>\n",
       "      <td>64756</td>\n",
       "      <td>2.488667</td>\n",
       "      <td>-73.74</td>\n",
       "      <td>41.79</td>\n",
       "      <td>27.473118</td>\n",
       "      <td>15.351613</td>\n",
       "      <td>21.410753</td>\n",
       "      <td>21.378495</td>\n",
       "      <td>4.480645</td>\n",
       "      <td>18.493333</td>\n",
       "      <td>...</td>\n",
       "      <td>0.150914</td>\n",
       "      <td>0.121323</td>\n",
       "      <td>0.125398</td>\n",
       "      <td>0.162667</td>\n",
       "      <td>24.784946</td>\n",
       "      <td>24.897849</td>\n",
       "      <td>24.117204</td>\n",
       "      <td>23.311828</td>\n",
       "      <td>22.278495</td>\n",
       "      <td>NaN</td>\n",
       "    </tr>\n",
       "    <tr>\n",
       "      <th>9</th>\n",
       "      <td>64756</td>\n",
       "      <td>2.488667</td>\n",
       "      <td>-73.74</td>\n",
       "      <td>41.79</td>\n",
       "      <td>24.084444</td>\n",
       "      <td>12.032222</td>\n",
       "      <td>18.057778</td>\n",
       "      <td>17.866667</td>\n",
       "      <td>3.730000</td>\n",
       "      <td>13.625667</td>\n",
       "      <td>...</td>\n",
       "      <td>0.131133</td>\n",
       "      <td>0.113678</td>\n",
       "      <td>0.117722</td>\n",
       "      <td>0.157660</td>\n",
       "      <td>21.061111</td>\n",
       "      <td>21.220000</td>\n",
       "      <td>20.947778</td>\n",
       "      <td>20.823333</td>\n",
       "      <td>20.717778</td>\n",
       "      <td>NaN</td>\n",
       "    </tr>\n",
       "    <tr>\n",
       "      <th>10</th>\n",
       "      <td>64756</td>\n",
       "      <td>2.548882</td>\n",
       "      <td>-73.74</td>\n",
       "      <td>41.79</td>\n",
       "      <td>18.127473</td>\n",
       "      <td>5.757143</td>\n",
       "      <td>11.938462</td>\n",
       "      <td>11.952747</td>\n",
       "      <td>3.228261</td>\n",
       "      <td>9.442527</td>\n",
       "      <td>...</td>\n",
       "      <td>0.144363</td>\n",
       "      <td>0.103879</td>\n",
       "      <td>0.112703</td>\n",
       "      <td>0.147246</td>\n",
       "      <td>14.901099</td>\n",
       "      <td>15.050549</td>\n",
       "      <td>15.360440</td>\n",
       "      <td>16.113187</td>\n",
       "      <td>17.113187</td>\n",
       "      <td>NaN</td>\n",
       "    </tr>\n",
       "    <tr>\n",
       "      <th>11</th>\n",
       "      <td>64756</td>\n",
       "      <td>2.555333</td>\n",
       "      <td>-73.74</td>\n",
       "      <td>41.79</td>\n",
       "      <td>9.586667</td>\n",
       "      <td>-1.375556</td>\n",
       "      <td>4.097778</td>\n",
       "      <td>4.277778</td>\n",
       "      <td>3.991111</td>\n",
       "      <td>6.350111</td>\n",
       "      <td>...</td>\n",
       "      <td>0.213856</td>\n",
       "      <td>0.174800</td>\n",
       "      <td>0.149300</td>\n",
       "      <td>0.159456</td>\n",
       "      <td>6.845556</td>\n",
       "      <td>6.918889</td>\n",
       "      <td>7.663333</td>\n",
       "      <td>8.987778</td>\n",
       "      <td>11.007778</td>\n",
       "      <td>NaN</td>\n",
       "    </tr>\n",
       "    <tr>\n",
       "      <th>12</th>\n",
       "      <td>64756</td>\n",
       "      <td>2.555333</td>\n",
       "      <td>-73.74</td>\n",
       "      <td>41.79</td>\n",
       "      <td>3.569892</td>\n",
       "      <td>-5.704301</td>\n",
       "      <td>-1.069892</td>\n",
       "      <td>-0.850538</td>\n",
       "      <td>2.791398</td>\n",
       "      <td>4.708602</td>\n",
       "      <td>...</td>\n",
       "      <td>0.231729</td>\n",
       "      <td>0.188398</td>\n",
       "      <td>0.156817</td>\n",
       "      <td>0.172882</td>\n",
       "      <td>1.896774</td>\n",
       "      <td>1.964516</td>\n",
       "      <td>2.658065</td>\n",
       "      <td>3.869892</td>\n",
       "      <td>5.846237</td>\n",
       "      <td>NaN</td>\n",
       "    </tr>\n",
       "  </tbody>\n",
       "</table>\n",
       "<p>12 rows × 27 columns</p>\n",
       "</div>"
      ],
      "text/plain": [
       "          WBANNO    CRX_VN  LONGITUDE  LATITUDE  T_DAILY_MAX  T_DAILY_MIN  \\\n",
       "LST_DATE                                                                    \n",
       "1          64756  2.488667     -73.74     41.79     2.924731    -7.122581   \n",
       "2          64756  2.487882     -73.74     41.79     6.431765    -5.015294   \n",
       "3          64756  2.488667     -73.74     41.79     7.953763    -3.035484   \n",
       "4          64756  2.488667     -73.74     41.79    14.793333     1.816667   \n",
       "5          64756  2.488667     -73.74     41.79    21.235484     8.460215   \n",
       "6          64756  2.488667     -73.74     41.79    25.627778    11.837778   \n",
       "7          64756  2.488667     -73.74     41.79    28.568817    15.536559   \n",
       "8          64756  2.488667     -73.74     41.79    27.473118    15.351613   \n",
       "9          64756  2.488667     -73.74     41.79    24.084444    12.032222   \n",
       "10         64756  2.548882     -73.74     41.79    18.127473     5.757143   \n",
       "11         64756  2.555333     -73.74     41.79     9.586667    -1.375556   \n",
       "12         64756  2.555333     -73.74     41.79     3.569892    -5.704301   \n",
       "\n",
       "          T_DAILY_MEAN  T_DAILY_AVG  P_DAILY_CALC  SOLARAD_DAILY  ...  \\\n",
       "LST_DATE                                                          ...   \n",
       "1            -2.100000    -1.905376      2.478495       5.812258  ...   \n",
       "2             0.712941     1.022353      4.077647       8.495882  ...   \n",
       "3             2.455914     2.643011      2.788172      13.211290  ...   \n",
       "4             8.302222     8.574444      2.396667      15.295889  ...   \n",
       "5            14.850538    15.121505      3.015054      17.288602  ...   \n",
       "6            18.733333    19.026667      3.053333      21.913333  ...   \n",
       "7            22.054839    22.012903      3.865591      21.570645  ...   \n",
       "8            21.410753    21.378495      4.480645      18.493333  ...   \n",
       "9            18.057778    17.866667      3.730000      13.625667  ...   \n",
       "10           11.938462    11.952747      3.228261       9.442527  ...   \n",
       "11            4.097778     4.277778      3.991111       6.350111  ...   \n",
       "12           -1.069892    -0.850538      2.791398       4.708602  ...   \n",
       "\n",
       "          SOIL_MOISTURE_10_DAILY  SOIL_MOISTURE_20_DAILY  \\\n",
       "LST_DATE                                                   \n",
       "1                       0.240250                0.199528   \n",
       "2                       0.244229                0.203089   \n",
       "3                       0.224155                0.190753   \n",
       "4                       0.208611                0.183922   \n",
       "5                       0.198925                0.175441   \n",
       "6                       0.132867                0.127067   \n",
       "7                       0.100871                0.084978   \n",
       "8                       0.150914                0.121323   \n",
       "9                       0.131133                0.113678   \n",
       "10                      0.144363                0.103879   \n",
       "11                      0.213856                0.174800   \n",
       "12                      0.231729                0.188398   \n",
       "\n",
       "          SOIL_MOISTURE_50_DAILY  SOIL_MOISTURE_100_DAILY  SOIL_TEMP_5_DAILY  \\\n",
       "LST_DATE                                                                       \n",
       "1                       0.150387                 0.162554           0.168817   \n",
       "2                       0.154294                 0.165494           1.217647   \n",
       "3                       0.153108                 0.161742           3.469892   \n",
       "4                       0.150022                 0.159956           9.402222   \n",
       "5                       0.146011                 0.157710          16.889247   \n",
       "6                       0.128344                 0.154989          22.372222   \n",
       "7                       0.112516                 0.153264          25.453763   \n",
       "8                       0.125398                 0.162667          24.784946   \n",
       "9                       0.117722                 0.157660          21.061111   \n",
       "10                      0.112703                 0.147246          14.901099   \n",
       "11                      0.149300                 0.159456           6.845556   \n",
       "12                      0.156817                 0.172882           1.896774   \n",
       "\n",
       "          SOIL_TEMP_10_DAILY  SOIL_TEMP_20_DAILY  SOIL_TEMP_50_DAILY  \\\n",
       "LST_DATE                                                               \n",
       "1                   0.232258            0.788172            1.749462   \n",
       "2                   1.183529            1.281176            1.602353   \n",
       "3                   3.407527            3.379570            3.473118   \n",
       "4                   9.140000            8.438889            7.600000   \n",
       "5                  16.693548           15.570968           14.193548   \n",
       "6                  22.198889           20.917778           19.421111   \n",
       "7                  25.408602           24.141935           22.725806   \n",
       "8                  24.897849           24.117204           23.311828   \n",
       "9                  21.220000           20.947778           20.823333   \n",
       "10                 15.050549           15.360440           16.113187   \n",
       "11                  6.918889            7.663333            8.987778   \n",
       "12                  1.964516            2.658065            3.869892   \n",
       "\n",
       "          SOIL_TEMP_100_DAILY      \n",
       "LST_DATE                           \n",
       "1                    3.395699 NaN  \n",
       "2                    2.460000 NaN  \n",
       "3                    3.792473 NaN  \n",
       "4                    6.633333 NaN  \n",
       "5                   12.344086 NaN  \n",
       "6                   17.453333 NaN  \n",
       "7                   20.994624 NaN  \n",
       "8                   22.278495 NaN  \n",
       "9                   20.717778 NaN  \n",
       "10                  17.113187 NaN  \n",
       "11                  11.007778 NaN  \n",
       "12                   5.846237 NaN  \n",
       "\n",
       "[12 rows x 27 columns]"
      ]
     },
     "execution_count": 56,
     "metadata": {},
     "output_type": "execute_result"
    }
   ],
   "source": [
    "monthly_climatology = df.groupby(df.index.month).mean()\n",
    "monthly_climatology"
   ]
  },
  {
   "cell_type": "markdown",
   "metadata": {},
   "source": [
    "Each row in this new dataframe respresents the average values for the months (1=January, 2=February, etc.)\n",
    "\n",
    "We can apply more customized aggregations, as with any groupby operation. Below we keep the mean of the mean, max of the max, and min of the min for the temperature measurements."
   ]
  },
  {
   "cell_type": "code",
   "execution_count": 57,
   "metadata": {},
   "outputs": [
    {
     "data": {
      "text/html": [
       "<div>\n",
       "<style scoped>\n",
       "    .dataframe tbody tr th:only-of-type {\n",
       "        vertical-align: middle;\n",
       "    }\n",
       "\n",
       "    .dataframe tbody tr th {\n",
       "        vertical-align: top;\n",
       "    }\n",
       "\n",
       "    .dataframe thead th {\n",
       "        text-align: right;\n",
       "    }\n",
       "</style>\n",
       "<table border=\"1\" class=\"dataframe\">\n",
       "  <thead>\n",
       "    <tr style=\"text-align: right;\">\n",
       "      <th></th>\n",
       "      <th>T_DAILY_MEAN</th>\n",
       "      <th>T_DAILY_MAX</th>\n",
       "      <th>T_DAILY_MIN</th>\n",
       "    </tr>\n",
       "    <tr>\n",
       "      <th>LST_DATE</th>\n",
       "      <th></th>\n",
       "      <th></th>\n",
       "      <th></th>\n",
       "    </tr>\n",
       "  </thead>\n",
       "  <tbody>\n",
       "    <tr>\n",
       "      <th>1</th>\n",
       "      <td>-2.100000</td>\n",
       "      <td>16.9</td>\n",
       "      <td>-26.0</td>\n",
       "    </tr>\n",
       "    <tr>\n",
       "      <th>2</th>\n",
       "      <td>0.712941</td>\n",
       "      <td>24.9</td>\n",
       "      <td>-24.7</td>\n",
       "    </tr>\n",
       "    <tr>\n",
       "      <th>3</th>\n",
       "      <td>2.455914</td>\n",
       "      <td>26.8</td>\n",
       "      <td>-16.5</td>\n",
       "    </tr>\n",
       "    <tr>\n",
       "      <th>4</th>\n",
       "      <td>8.302222</td>\n",
       "      <td>30.6</td>\n",
       "      <td>-11.3</td>\n",
       "    </tr>\n",
       "    <tr>\n",
       "      <th>5</th>\n",
       "      <td>14.850538</td>\n",
       "      <td>33.4</td>\n",
       "      <td>-1.6</td>\n",
       "    </tr>\n",
       "  </tbody>\n",
       "</table>\n",
       "</div>"
      ],
      "text/plain": [
       "          T_DAILY_MEAN  T_DAILY_MAX  T_DAILY_MIN\n",
       "LST_DATE                                        \n",
       "1            -2.100000         16.9        -26.0\n",
       "2             0.712941         24.9        -24.7\n",
       "3             2.455914         26.8        -16.5\n",
       "4             8.302222         30.6        -11.3\n",
       "5            14.850538         33.4         -1.6"
      ]
     },
     "execution_count": 57,
     "metadata": {},
     "output_type": "execute_result"
    }
   ],
   "source": [
    "monthly_T_climatology = df.groupby(df.index.month).aggregate({'T_DAILY_MEAN': 'mean',\n",
    "                                                              'T_DAILY_MAX': 'max',\n",
    "                                                              'T_DAILY_MIN': 'min'})\n",
    "monthly_T_climatology.head()"
   ]
  },
  {
   "cell_type": "code",
   "execution_count": 58,
   "metadata": {},
   "outputs": [
    {
     "data": {
      "text/plain": [
       "<AxesSubplot:xlabel='LST_DATE'>"
      ]
     },
     "execution_count": 58,
     "metadata": {},
     "output_type": "execute_result"
    },
    {
     "data": {
      "image/png": "[encoded data removed]",
      "text/plain": [
       "<Figure size 432x288 with 1 Axes>"
      ]
     },
     "metadata": {
      "needs_background": "light"
     },
     "output_type": "display_data"
    }
   ],
   "source": [
    "monthly_T_climatology.plot(marker='o')"
   ]
  },
  {
   "cell_type": "markdown",
   "metadata": {},
   "source": [
    "If we want to do it on a finer scale, we can group by day of year."
   ]
  },
  {
   "cell_type": "code",
   "execution_count": 59,
   "metadata": {},
   "outputs": [
    {
     "data": {
      "text/plain": [
       "<AxesSubplot:xlabel='LST_DATE'>"
      ]
     },
     "execution_count": 59,
     "metadata": {},
     "output_type": "execute_result"
    },
    {
     "data": {
      "image/png": "[encoded data removed]",
      "text/plain": [
       "<Figure size 432x288 with 1 Axes>"
      ]
     },
     "metadata": {
      "needs_background": "light"
     },
     "output_type": "display_data"
    }
   ],
   "source": [
    "daily_T_climatology = df.groupby(df.index.dayofyear).aggregate({'T_DAILY_MEAN': 'mean',\n",
    "                                                            'T_DAILY_MAX': 'max',\n",
    "                                                            'T_DAILY_MIN': 'min'})\n",
    "daily_T_climatology.plot(marker='.')"
   ]
  },
  {
   "cell_type": "markdown",
   "metadata": {},
   "source": [
    "### Calculating anomalies\n",
    "\n",
    "A common mode of analysis in climate science is to remove the climatology from a signal to focus only on the \"anomaly\" values. This can be accomplished with transformation."
   ]
  },
  {
   "cell_type": "code",
   "execution_count": 60,
   "metadata": {},
   "outputs": [
    {
     "data": {
      "text/plain": [
       "<AxesSubplot:xlabel='LST_DATE'>"
      ]
     },
     "execution_count": 60,
     "metadata": {},
     "output_type": "execute_result"
    },
    {
     "data": {
      "image/png": "[encoded data removed]",
      "text/plain": [
       "<Figure size 432x288 with 1 Axes>"
      ]
     },
     "metadata": {
      "needs_background": "light"
     },
     "output_type": "display_data"
    }
   ],
   "source": [
    "def standardize(x):\n",
    "    return (x - x.mean())/x.std()\n",
    "\n",
    "anomaly = df.groupby(df.index.month).transform(standardize)\n",
    "anomaly.plot(y='T_DAILY_MEAN')"
   ]
  },
  {
   "cell_type": "markdown",
   "metadata": {},
   "source": [
    "### Resampling\n",
    "\n",
    "Another common operation is to change the resolution of a dataset by resampling in time. Pandas exposes this through the [resample](http://pandas.pydata.org/pandas-docs/stable/timeseries.html#resampling) function. The resample periods are specified using pandas [offset index](http://pandas.pydata.org/pandas-docs/stable/timeseries.html#offset-aliases) syntax.\n",
    "\n",
    "Below we resample the dataset by taking the mean over each month."
   ]
  },
  {
   "cell_type": "code",
   "execution_count": 61,
   "metadata": {},
   "outputs": [
    {
     "data": {
      "text/plain": [
       "<AxesSubplot:xlabel='LST_DATE'>"
      ]
     },
     "execution_count": 61,
     "metadata": {},
     "output_type": "execute_result"
    },
    {
     "data": {
      "image/png": "[encoded data removed]",
      "text/plain": [
       "<Figure size 432x288 with 1 Axes>"
      ]
     },
     "metadata": {
      "needs_background": "light"
     },
     "output_type": "display_data"
    }
   ],
   "source": [
    "df.resample('M').mean().plot(y='T_DAILY_MEAN', marker='o')"
   ]
  },
  {
   "cell_type": "markdown",
   "metadata": {},
   "source": [
    "Just like with `groupby`, we can apply any aggregation function to our `resample` operation."
   ]
  },
  {
   "cell_type": "code",
   "execution_count": 62,
   "metadata": {},
   "outputs": [
    {
     "data": {
      "text/plain": [
       "<AxesSubplot:xlabel='LST_DATE'>"
      ]
     },
     "execution_count": 62,
     "metadata": {},
     "output_type": "execute_result"
    },
    {
     "data": {
      "image/png": "[encoded data removed]",
      "text/plain": [
       "<Figure size 432x288 with 1 Axes>"
      ]
     },
     "metadata": {
      "needs_background": "light"
     },
     "output_type": "display_data"
    }
   ],
   "source": [
    "df.resample('M').max().plot(y='T_DAILY_MAX', marker='o')"
   ]
  },
  {
   "cell_type": "markdown",
   "metadata": {},
   "source": [
    "### Rolling Operations\n",
    "\n",
    "The final category of operations applies to \"rolling windows\". (See [rolling](https://pandas.pydata.org/pandas-docs/stable/generated/pandas.DataFrame.rolling.html) documentation.) We specify a function to apply over a moving window along the index. We specify the size of the window and, optionally, the weights. We also use the keyword `centered` to tell pandas whether to center the operation around the midpoint of the window."
   ]
  },
  {
   "cell_type": "code",
   "execution_count": 63,
   "metadata": {},
   "outputs": [
    {
     "data": {
      "text/plain": [
       "<AxesSubplot:xlabel='LST_DATE'>"
      ]
     },
     "execution_count": 63,
     "metadata": {},
     "output_type": "execute_result"
    },
    {
     "data": {
      "image/png": "[encoded data removed]",
      "text/plain": [
       "<Figure size 432x288 with 1 Axes>"
      ]
     },
     "metadata": {
      "needs_background": "light"
     },
     "output_type": "display_data"
    }
   ],
   "source": [
    "df.rolling(30, center=True).T_DAILY_MEAN.mean().plot()\n",
    "df.rolling(30, center=True, win_type='triang').T_DAILY_MEAN.mean().plot()"
   ]
  },
  {
   "cell_type": "code",
   "execution_count": null,
   "metadata": {},
   "outputs": [],
   "source": []
  }
 ],
 "metadata": {
  "kernelspec": {
   "display_name": "Python 3",
   "language": "python",
   "name": "python3"
  },
  "language_info": {
   "codemirror_mode": {
    "name": "ipython",
    "version": 3
   },
   "file_extension": ".py",
   "mimetype": "text/x-python",
   "name": "python",
   "nbconvert_exporter": "python",
   "pygments_lexer": "ipython3",
   "version": "3.8.8"
  }
 },
 "nbformat": 4,
 "nbformat_minor": 4
}
